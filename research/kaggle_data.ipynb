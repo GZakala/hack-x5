{
 "cells": [
  {
   "cell_type": "code",
   "execution_count": 1,
   "id": "d790fddc",
   "metadata": {},
   "outputs": [],
   "source": [
    "import polars as pl"
   ]
  },
  {
   "cell_type": "code",
   "execution_count": 2,
   "id": "e0bbbde0",
   "metadata": {},
   "outputs": [
    {
     "name": "stdout",
     "output_type": "stream",
     "text": [
      "(19341, 7)\n"
     ]
    },
    {
     "data": {
      "text/html": [
       "<div><style>\n",
       ".dataframe > thead > tr,\n",
       ".dataframe > tbody > tr {\n",
       "  text-align: right;\n",
       "  white-space: pre-wrap;\n",
       "}\n",
       "</style>\n",
       "<small>shape: (2, 7)</small><table border=\"1\" class=\"dataframe\"><thead><tr><th>index</th><th>name</th><th>category</th><th>brand</th><th>package_size</th><th>unit</th><th>catalogue_name</th></tr><tr><td>u32</td><td>str</td><td>str</td><td>str</td><td>str</td><td>str</td><td>str</td></tr></thead><tbody><tr><td>0</td><td>&quot;Молоко «Правильное» 3,2%-4%, 900 мл&quot;</td><td>&quot;Молоко&quot;</td><td>&quot;Правильное&quot;</td><td>&quot;900&quot;</td><td>&quot;мл&quot;</td><td>&quot;Сезонный каталог Атак «Недельный каталог»&quot;</td></tr><tr><td>1</td><td>&quot;Бифилайф «Рузский» кисломолочный2,5 %, 250 г&quot;</td><td>&quot;Кефир, ряженка, тан, айран&quot;</td><td>&quot;Рузское молоко&quot;</td><td>&quot;250&quot;</td><td>&quot;г&quot;</td><td>&quot;Сезонный каталог Атак «Недельный каталог»&quot;</td></tr></tbody></table></div>"
      ],
      "text/plain": [
       "shape: (2, 7)\n",
       "┌───────┬─────────────────┬────────────────┬────────────────┬──────────────┬──────┬────────────────┐\n",
       "│ index ┆ name            ┆ category       ┆ brand          ┆ package_size ┆ unit ┆ catalogue_name │\n",
       "│ ---   ┆ ---             ┆ ---            ┆ ---            ┆ ---          ┆ ---  ┆ ---            │\n",
       "│ u32   ┆ str             ┆ str            ┆ str            ┆ str          ┆ str  ┆ str            │\n",
       "╞═══════╪═════════════════╪════════════════╪════════════════╪══════════════╪══════╪════════════════╡\n",
       "│ 0     ┆ Молоко          ┆ Молоко         ┆ Правильное     ┆ 900          ┆ мл   ┆ Сезонный       │\n",
       "│       ┆ «Правильное»    ┆                ┆                ┆              ┆      ┆ каталог Атак   │\n",
       "│       ┆ 3,2%-4%, 900 мл ┆                ┆                ┆              ┆      ┆ «Недельный     │\n",
       "│       ┆                 ┆                ┆                ┆              ┆      ┆ каталог»       │\n",
       "│ 1     ┆ Бифилайф        ┆ Кефир,         ┆ Рузское молоко ┆ 250          ┆ г    ┆ Сезонный       │\n",
       "│       ┆ «Рузский» кисло ┆ ряженка, тан,  ┆                ┆              ┆      ┆ каталог Атак   │\n",
       "│       ┆ молочный2,5 %,  ┆ айран          ┆                ┆              ┆      ┆ «Недельный     │\n",
       "│       ┆ 250 г           ┆                ┆                ┆              ┆      ┆ каталог»       │\n",
       "└───────┴─────────────────┴────────────────┴────────────────┴──────────────┴──────┴────────────────┘"
      ]
     },
     "execution_count": 2,
     "metadata": {},
     "output_type": "execute_result"
    }
   ],
   "source": [
    "pl.Config.set_fmt_str_lengths(100)\n",
    "\n",
    "df = pl.read_csv('./russian_supermarket_prices.csv') \\\n",
    "    .select(\n",
    "        name='product_name',\n",
    "        category='product_category',\n",
    "        brand='brand',\n",
    "        package_size='package_size',\n",
    "        unit='unit',\n",
    "        catalogue_name='catalogue_name',\n",
    "        year='year',\n",
    "    ) \\\n",
    "    .sort('year', descending=True) \\\n",
    "    .with_row_index() \\\n",
    "    .filter(pl.col('index').rank('ordinal').over('name') == 1) \\\n",
    "    .drop('year')\n",
    "\n",
    "print(df.shape)\n",
    "df.head(2)"
   ]
  },
  {
   "cell_type": "code",
   "execution_count": 29,
   "id": "6c15b900",
   "metadata": {},
   "outputs": [],
   "source": [
    "from yargy import rule, or_, and_, Parser\n",
    "from yargy.interpretation import fact\n",
    "from yargy.predicates import gte, lte, caseless, normalized, dictionary\n",
    "\n",
    "from razdel import tokenize as razdel_tokenize\n",
    "def tokenize(text: str) -> list[str]:\n",
    "    return [t.text for t in razdel_tokenize(text)]"
   ]
  },
  {
   "cell_type": "code",
   "execution_count": 36,
   "id": "f853a5d0",
   "metadata": {},
   "outputs": [
    {
     "name": "stdout",
     "output_type": "stream",
     "text": [
      "['Молоко', '«', 'Правильное', '»', '3,2', '%', '-', '4', '%', ',', '900', 'мл']\n",
      "3,2\n",
      "4\n"
     ]
    }
   ],
   "source": [
    "import re\n",
    "rvalue = re.compile(r'^[0-9]$|^[0-9]+[.,][0-9]+$')\n",
    "def is_value(token: str) -> bool:\n",
    "    return rvalue.match(token) is not None\n",
    "\n",
    "text = \"Молоко «Правильное» 3,2%-4%, 900 мл\"\n",
    "tokens = tokenize(text)\n",
    "print(tokens)\n",
    "for token in tokens:\n",
    "    if is_value(token):\n",
    "        print(token)"
   ]
  },
  {
   "cell_type": "code",
   "execution_count": 37,
   "id": "96613020",
   "metadata": {},
   "outputs": [],
   "source": [
    "import fuzzywuzzy"
   ]
  },
  {
   "cell_type": "code",
   "execution_count": null,
   "id": "05df3cfb",
   "metadata": {},
   "outputs": [],
   "source": [
    "fuzzywuzzy."
   ]
  },
  {
   "cell_type": "code",
   "execution_count": null,
   "id": "ad9e5bb3",
   "metadata": {},
   "outputs": [],
   "source": [
    "Date = fact(\n",
    "    'Date',\n",
    "    ['year', 'month', 'day']\n",
    ")\n",
    "\n",
    "\n",
    "DAY = and_(\n",
    "    gte(1),\n",
    "    lte(31)\n",
    ").interpretation(\n",
    "    Date.day\n",
    ")\n",
    "MONTH = and_(\n",
    "    gte(1),\n",
    "    lte(12)\n",
    ").interpretation(\n",
    "    Date.month\n",
    ")\n",
    "YEAR = and_(\n",
    "    gte(1),\n",
    "    lte(2018)\n",
    ").interpretation(\n",
    "    Date.year\n",
    ")\n",
    "MONTH_NAME = dictionary(\n",
    "    MONTHS\n",
    ").interpretation(\n",
    "    Date.month\n",
    ")\n",
    "DATE = or_(\n",
    "    rule(YEAR, '-', MONTH, '-', DAY),\n",
    "    rule(\n",
    "        DAY,\n",
    "        MONTH_NAME,\n",
    "        YEAR,\n",
    "        YEAR_WORDS.optional()\n",
    "    )\n",
    ").interpretation(Date)\n",
    "\n",
    "match = parser.match('05 февраля 2011 года')\n",
    "match.tree.as_dot"
   ]
  },
  {
   "cell_type": "code",
   "execution_count": null,
   "id": "a9e8758e",
   "metadata": {},
   "outputs": [],
   "source": []
  },
  {
   "cell_type": "code",
   "execution_count": null,
   "id": "0385fce0",
   "metadata": {},
   "outputs": [],
   "source": []
  }
 ],
 "metadata": {
  "kernelspec": {
   "display_name": ".venv",
   "language": "python",
   "name": "python3"
  },
  "language_info": {
   "codemirror_mode": {
    "name": "ipython",
    "version": 3
   },
   "file_extension": ".py",
   "mimetype": "text/x-python",
   "name": "python",
   "nbconvert_exporter": "python",
   "pygments_lexer": "ipython3",
   "version": "3.12.10"
  }
 },
 "nbformat": 4,
 "nbformat_minor": 5
}
