{
 "cells": [
  {
   "cell_type": "code",
   "execution_count": 1,
   "id": "b08789e2",
   "metadata": {},
   "outputs": [
    {
     "name": "stdout",
     "output_type": "stream",
     "text": [
      "(27248, 3)\n"
     ]
    },
    {
     "data": {
      "text/html": [
       "<div>\n",
       "<style scoped>\n",
       "    .dataframe tbody tr th:only-of-type {\n",
       "        vertical-align: middle;\n",
       "    }\n",
       "\n",
       "    .dataframe tbody tr th {\n",
       "        vertical-align: top;\n",
       "    }\n",
       "\n",
       "    .dataframe thead th {\n",
       "        text-align: right;\n",
       "    }\n",
       "</style>\n",
       "<table border=\"1\" class=\"dataframe\">\n",
       "  <thead>\n",
       "    <tr style=\"text-align: right;\">\n",
       "      <th></th>\n",
       "      <th>text</th>\n",
       "      <th>spans</th>\n",
       "      <th>spans_d</th>\n",
       "    </tr>\n",
       "  </thead>\n",
       "  <tbody>\n",
       "    <tr>\n",
       "      <th>0</th>\n",
       "      <td>aa</td>\n",
       "      <td>[(0, 2, O)]</td>\n",
       "      <td>[{'start': 0, 'end': 2, 'label': 'O'}]</td>\n",
       "    </tr>\n",
       "    <tr>\n",
       "      <th>1</th>\n",
       "      <td>aala</td>\n",
       "      <td>[(0, 4, O)]</td>\n",
       "      <td>[{'start': 0, 'end': 4, 'label': 'O'}]</td>\n",
       "    </tr>\n",
       "  </tbody>\n",
       "</table>\n",
       "</div>"
      ],
      "text/plain": [
       "   text        spans                                 spans_d\n",
       "0    aa  [(0, 2, O)]  [{'start': 0, 'end': 2, 'label': 'O'}]\n",
       "1  aala  [(0, 4, O)]  [{'start': 0, 'end': 4, 'label': 'O'}]"
      ]
     },
     "execution_count": 1,
     "metadata": {},
     "output_type": "execute_result"
    }
   ],
   "source": [
    "import ast\n",
    "import pandas as pd\n",
    "from tqdm import tqdm\n",
    "\n",
    "# Загружаем данные (пример)\n",
    "df = pd.read_csv('../data/train.csv', sep=';')\n",
    "df.columns = ['text', 'spans']\n",
    "df['spans'] = df['spans'].apply(lambda x: ast.literal_eval(x))\n",
    "df['spans'] = df['spans'].apply(lambda x: [(s[0], s[1], s[2].replace('0', 'O')) for s in x])\n",
    "df['spans_d'] = df['spans'].apply(lambda x: [{'start': span[0], 'end': span[1], 'label': span[2]} for span in x])\n",
    "df = df.iloc[[i for i, s in enumerate(df['spans_d'].values) if s[0]['start'] == 0]]\n",
    "\n",
    "# словарь меток\n",
    "label2id = {\n",
    "    \"O\": 0, \n",
    "    \"B-BRAND\": 1, \"B-TYPE\": 2, \"B-VOLUME\": 3, \"B-PERCENT\": 4,\n",
    "    \"I-BRAND\": 5, \"I-TYPE\": 6, \"I-VOLUME\": 7, \"I-PERCENT\": 8,\n",
    "}\n",
    "id2label = {v: k for k, v in label2id.items()}\n",
    "\n",
    "print(df.shape)\n",
    "df.head(2)"
   ]
  },
  {
   "cell_type": "code",
   "execution_count": 2,
   "id": "a7c8563b",
   "metadata": {},
   "outputs": [],
   "source": [
    "import random\n",
    "import re\n",
    "\n",
    "def get_random_int_range(num: int | str) -> tuple[int, int]:\n",
    "    n = '1'\n",
    "    for _ in range(len(str(num))):\n",
    "        n += '0'\n",
    "    n = n[:-1]\n",
    "    start = int(n)\n",
    "    start = 0 if start == 1 else start\n",
    "    end = int(n + '0') - 1\n",
    "    return start, end\n",
    "\n",
    "def augment_numbers(texts, spans, n_aug=3):\n",
    "    r = re.compile(r'[0-9]+')\n",
    "    new_texts, new_labels = [], []\n",
    "    \n",
    "    for text, span in zip(texts, spans):\n",
    "        new_texts.append(text)\n",
    "        new_labels.append(span)\n",
    "\n",
    "        token_spans = [(text[s[0] : s[1]], s[2]) for s in span]\n",
    "\n",
    "        num_token_ids = [\n",
    "            i for i, (_, s) in enumerate(token_spans) \n",
    "            if s != 'O' and s.split('-')[1] in ('PERCENT', 'VALUE')\n",
    "        ]\n",
    "\n",
    "        if not num_token_ids:\n",
    "            continue\n",
    "        \n",
    "        for _ in range(n_aug):\n",
    "            aug_text = str(text)\n",
    "            aug_lbls = list(span)\n",
    "\n",
    "            for num_token_id in num_token_ids:\n",
    "                token, label = token_spans[num_token_id]\n",
    "\n",
    "                num = r.search(token)\n",
    "                if not num:\n",
    "                    continue\n",
    "                num = num.group(0)\n",
    "\n",
    "                if 'PERCENT' in label or \"VOLUME\" in label:\n",
    "                    start, end = get_random_int_range(num)\n",
    "                    new_num = str(random.randint(start, end))\n",
    "                else:\n",
    "                    continue\n",
    "\n",
    "                aug_text = aug_text.replace(num, new_num, 1)\n",
    "\n",
    "            new_texts.append(aug_text)\n",
    "            new_labels.append(aug_lbls)\n",
    "\n",
    "    return new_texts, new_labels"
   ]
  },
  {
   "cell_type": "code",
   "execution_count": 3,
   "id": "5090664b",
   "metadata": {},
   "outputs": [],
   "source": [
    "texts = df.values[:, 0]\n",
    "spans = df.values[:, 1]\n",
    "aug_text, aug_spans = augment_numbers(texts, spans, 5)\n",
    "num_aug_df = pd.DataFrame({'text': aug_text, 'spans': aug_spans})\n",
    "num_aug_df['spans'] = num_aug_df['spans'].apply(lambda x: str(x))\n",
    "num_aug_df.to_csv('../data/aug_train.csv', sep=';', index=False)"
   ]
  },
  {
   "cell_type": "code",
   "execution_count": null,
   "metadata": {},
   "outputs": [],
   "source": []
  },
  {
   "cell_type": "code",
   "execution_count": 407,
   "id": "75bb9f4a",
   "metadata": {},
   "outputs": [],
   "source": [
    "from itertools import product, chain\n",
    "\n",
    "def aug_group_bio(token_spans):\n",
    "    span_bios = [s for s in token_spans if s[2].startswith('B-')]\n",
    "    span_groups = []\n",
    "    for span in span_bios:\n",
    "        o = span[2].split('-')[1]\n",
    "        group_tokens = [s[3] for s in token_spans if s[2].endswith(o)]\n",
    "        aug_group = []\n",
    "        for _ in range(6):\n",
    "            aug_tokens = list(group_tokens)\n",
    "            random.shuffle(aug_tokens)\n",
    "            aug_spans = [(f'B-{o}', aug_tokens[0])]\n",
    "            for token in aug_tokens[1:]:\n",
    "                aug_spans.append((f'I-{o}', token))\n",
    "            aug_group.append(tuple(aug_spans))\n",
    "\n",
    "        aug_group = list(set(aug_group))\n",
    "        span_groups.append(tuple(aug_group))\n",
    "    return span_groups\n",
    "\n",
    "def valid_permutations(entities):\n",
    "    n = len(entities)\n",
    "    used = [False] * n\n",
    "    result = []\n",
    "\n",
    "    # Преобразуем в список для удобства\n",
    "    items = list(entities)\n",
    "\n",
    "    # Словарь: для каждого I знаем его базовый B\n",
    "    base_for = {}\n",
    "    for i, (tag, word) in enumerate(items):\n",
    "        if tag.startswith(\"I-\"):\n",
    "            _, name = tag.split(\"-\", 1)\n",
    "            base_for[i] = [j for j, (t2, _) in enumerate(items) if t2 == f\"B-{name}\"][0]\n",
    "\n",
    "    def backtrack(path):\n",
    "        if len(path) == n:\n",
    "            result.append([items[i] for i in path])\n",
    "            return\n",
    "\n",
    "        for i in range(n):\n",
    "            if used[i]:\n",
    "                continue\n",
    "\n",
    "            # Если это I, то его B должен быть уже в path\n",
    "            if i in base_for and base_for[i] not in path:\n",
    "                continue\n",
    "\n",
    "            used[i] = True\n",
    "            path.append(i)\n",
    "            backtrack(path)\n",
    "            path.pop()\n",
    "            used[i] = False\n",
    "\n",
    "    backtrack([])\n",
    "    return result\n",
    "\n",
    "def shuffle_token_spans(token_spans, k: int = 3):\n",
    "    aug_spans = []\n",
    "    for span_tokens in random.choices(token_spans, k=10):\n",
    "        cur_i = 0\n",
    "        new_spans = []\n",
    "        text = ' '.join([token for _, token in span_tokens])\n",
    "        for span, token in span_tokens:\n",
    "            new_spans.append((cur_i, cur_i + len(token), span))\n",
    "            cur_i += len(token) + 1\n",
    "        aug_spans.append((text, tuple(new_spans)))\n",
    "    aug_spans = list(set(aug_spans))[:k]\n",
    "    return aug_spans\n",
    "\n",
    "def aug_text_spans(spans, text, k = 3):\n",
    "    token_spans = [(s[0], s[1], s[2], token) for s, token in zip(spans, text.split())]\n",
    "    span_groups = aug_group_bio(token_spans)\n",
    "\n",
    "    span_products = [list(chain(*s)) for s in product(*span_groups)]\n",
    "    token_spans = list(chain(*[valid_permutations(sp) for sp in span_products]))\n",
    "    aug_spans = shuffle_token_spans(token_spans, k)\n",
    "    return aug_spans"
   ]
  },
  {
   "cell_type": "code",
   "execution_count": 377,
   "id": "c13df8f5",
   "metadata": {},
   "outputs": [
    {
     "name": "stdout",
     "output_type": "stream",
     "text": [
      "вода 5л красная цена\n",
      "[(0, 4, 'B-TYPE'), (5, 7, 'B-VOLUME'), (8, 15, 'B-BRAND'), (16, 20, 'I-BRAND')]\n"
     ]
    }
   ],
   "source": [
    "text, spans = df[[len(r.split()) > 3 for r in df['text'].values]][['text', 'spans']].sample(1).values[0]\n",
    "print(text)\n",
    "print(spans)"
   ]
  },
  {
   "cell_type": "code",
   "execution_count": 416,
   "metadata": {},
   "outputs": [],
   "source": [
    "texts = num_aug_df['text'].values\n",
    "spans = num_aug_df['spans'].values"
   ]
  },
  {
   "cell_type": "code",
   "execution_count": 418,
   "id": "e662bbfe",
   "metadata": {},
   "outputs": [],
   "source": [
    "aug_vals = []\n",
    "for text, span in zip(texts, spans):\n",
    "    aug_vals += aug_text_spans(span, text)"
   ]
  },
  {
   "cell_type": "code",
   "execution_count": 421,
   "id": "9713bb9b",
   "metadata": {},
   "outputs": [
    {
     "name": "stdout",
     "output_type": "stream",
     "text": [
      "(61534, 2)\n"
     ]
    },
    {
     "data": {
      "text/html": [
       "<div>\n",
       "<style scoped>\n",
       "    .dataframe tbody tr th:only-of-type {\n",
       "        vertical-align: middle;\n",
       "    }\n",
       "\n",
       "    .dataframe tbody tr th {\n",
       "        vertical-align: top;\n",
       "    }\n",
       "\n",
       "    .dataframe thead th {\n",
       "        text-align: right;\n",
       "    }\n",
       "</style>\n",
       "<table border=\"1\" class=\"dataframe\">\n",
       "  <thead>\n",
       "    <tr style=\"text-align: right;\">\n",
       "      <th></th>\n",
       "      <th>text</th>\n",
       "      <th>spans</th>\n",
       "    </tr>\n",
       "  </thead>\n",
       "  <tbody>\n",
       "    <tr>\n",
       "      <th>0</th>\n",
       "      <td>aa</td>\n",
       "      <td>[(0, 2, 'O')]</td>\n",
       "    </tr>\n",
       "    <tr>\n",
       "      <th>1</th>\n",
       "      <td>aala</td>\n",
       "      <td>[(0, 4, 'O')]</td>\n",
       "    </tr>\n",
       "  </tbody>\n",
       "</table>\n",
       "</div>"
      ],
      "text/plain": [
       "   text          spans\n",
       "0    aa  [(0, 2, 'O')]\n",
       "1  aala  [(0, 4, 'O')]"
      ]
     },
     "execution_count": 421,
     "metadata": {},
     "output_type": "execute_result"
    }
   ],
   "source": [
    "aug_df = pd.DataFrame(aug_vals, columns=['text', 'spans'])\n",
    "aug_df = aug_df[aug_df['text'] != '']\n",
    "aug_df = pd.concat([num_aug_df, aug_df])\n",
    "aug_df['spans'] = aug_df['spans'].apply(lambda x: str(x))\n",
    "aug_df = aug_df.drop_duplicates()\n",
    "print(aug_df.shape)\n",
    "aug_df.head(2)"
   ]
  },
  {
   "cell_type": "code",
   "execution_count": 422,
   "id": "15b8c415",
   "metadata": {},
   "outputs": [],
   "source": [
    "aug_df.to_csv('../data/aug_df.csv', sep=';', index=False)"
   ]
  },
  {
   "cell_type": "code",
   "execution_count": null,
   "id": "40dbf2fc",
   "metadata": {},
   "outputs": [],
   "source": []
  },
  {
   "cell_type": "code",
   "execution_count": null,
   "metadata": {},
   "outputs": [],
   "source": []
  }
 ],
 "metadata": {
  "kernelspec": {
   "display_name": ".venv",
   "language": "python",
   "name": "python3"
  },
  "language_info": {
   "codemirror_mode": {
    "name": "ipython",
    "version": 3
   },
   "file_extension": ".py",
   "mimetype": "text/x-python",
   "name": "python",
   "nbconvert_exporter": "python",
   "pygments_lexer": "ipython3",
   "version": "3.12.3"
  }
 },
 "nbformat": 4,
 "nbformat_minor": 5
}
