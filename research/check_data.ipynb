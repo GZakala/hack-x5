{
 "cells": [
  {
   "cell_type": "code",
   "execution_count": 1,
   "id": "689f01b7",
   "metadata": {},
   "outputs": [],
   "source": [
    "import polars as pl"
   ]
  },
  {
   "cell_type": "code",
   "execution_count": 3,
   "id": "33013553",
   "metadata": {},
   "outputs": [
    {
     "name": "stdout",
     "output_type": "stream",
     "text": [
      "(27251, 2)\n"
     ]
    },
    {
     "data": {
      "text/html": [
       "<div><style>\n",
       ".dataframe > thead > tr,\n",
       ".dataframe > tbody > tr {\n",
       "  text-align: right;\n",
       "  white-space: pre-wrap;\n",
       "}\n",
       "</style>\n",
       "<small>shape: (2, 2)</small><table border=\"1\" class=\"dataframe\"><thead><tr><th>sample</th><th>annotation</th></tr><tr><td>str</td><td>str</td></tr></thead><tbody><tr><td>&quot;aa&quot;</td><td>&quot;[(0, 2, &#x27;O&#x27;)]&quot;</td></tr><tr><td>&quot;aala&quot;</td><td>&quot;[(0, 4, &#x27;O&#x27;)]&quot;</td></tr></tbody></table></div>"
      ],
      "text/plain": [
       "shape: (2, 2)\n",
       "┌────────┬───────────────┐\n",
       "│ sample ┆ annotation    │\n",
       "│ ---    ┆ ---           │\n",
       "│ str    ┆ str           │\n",
       "╞════════╪═══════════════╡\n",
       "│ aa     ┆ [(0, 2, 'O')] │\n",
       "│ aala   ┆ [(0, 4, 'O')] │\n",
       "└────────┴───────────────┘"
      ]
     },
     "execution_count": 3,
     "metadata": {},
     "output_type": "execute_result"
    }
   ],
   "source": [
    "df = pl.read_csv('../data/train.csv', separator=';')\n",
    "print(df.shape)\n",
    "df.head(2)"
   ]
  },
  {
   "cell_type": "code",
   "execution_count": 39,
   "id": "82e0d903",
   "metadata": {},
   "outputs": [
    {
     "data": {
      "text/plain": [
       "('aa', \"[(0, 2, 'O')]\")"
      ]
     },
     "execution_count": 39,
     "metadata": {},
     "output_type": "execute_result"
    }
   ],
   "source": [
    "import json\n",
    "pl.Config.set_fmt_str_lengths(100)\n",
    "rows = df.rows()\n",
    "rows[0]"
   ]
  },
  {
   "cell_type": "code",
   "execution_count": 40,
   "id": "2cea3a49",
   "metadata": {},
   "outputs": [],
   "source": [
    "import json\n",
    "from razdel import tokenize as rtokenize\n",
    "\n",
    "def tokenize(text: str) -> list[str]:\n",
    "    return text.split(' ')\n",
    "\n",
    "tokens_ner = []\n",
    "for text, ann in rows:\n",
    "    ann = eval(ann)\n",
    "    tokens = tokenize(text)\n",
    "    ners = [ner for _, _, ner in ann]\n",
    "    tokens_ner.append(list(zip(tokens, ners)))"
   ]
  },
  {
   "cell_type": "code",
   "execution_count": null,
   "id": "07bd44a2",
   "metadata": {},
   "outputs": [
    {
     "data": {
      "text/html": [
       "<div><style>\n",
       ".dataframe > thead > tr,\n",
       ".dataframe > tbody > tr {\n",
       "  text-align: right;\n",
       "  white-space: pre-wrap;\n",
       "}\n",
       "</style>\n",
       "<small>shape: (27_251, 2)</small><table border=\"1\" class=\"dataframe\"><thead><tr><th>sample</th><th>annotation</th></tr><tr><td>str</td><td>str</td></tr></thead><tbody><tr><td>&quot;aa&quot;</td><td>&quot;[(0, 2, &#x27;O&#x27;)]&quot;</td></tr><tr><td>&quot;aala&quot;</td><td>&quot;[(0, 4, &#x27;O&#x27;)]&quot;</td></tr><tr><td>&quot;aarcca&quot;</td><td>&quot;[(0, 6, &#x27;O&#x27;)]&quot;</td></tr><tr><td>&quot;abon&quot;</td><td>&quot;[(0, 4, &#x27;O&#x27;)]&quot;</td></tr><tr><td>&quot;abso&quot;</td><td>&quot;[(0, 4, &#x27;B-BRAND&#x27;)]&quot;</td></tr><tr><td>&quot;abtoys игруш&quot;</td><td>&quot;[(0, 6, &#x27;B-BRAND&#x27;), (7, 12, &#x27;B-TYPE&#x27;)]&quot;</td></tr><tr><td>&quot;abtoys игрушк&quot;</td><td>&quot;[(0, 6, &#x27;B-BRAND&#x27;), (7, 13, &#x27;B-TYPE&#x27;)]&quot;</td></tr><tr><td>&quot;abtoys игрушки&quot;</td><td>&quot;[(0, 6, &#x27;B-BRAND&#x27;), (7, 14, &#x27;B-TYPE&#x27;)]&quot;</td></tr><tr><td>&quot;acofe&quot;</td><td>&quot;[(0, 5, &#x27;O&#x27;)]&quot;</td></tr><tr><td>&quot;actimal&quot;</td><td>&quot;[(0, 7, &#x27;B-BRAND&#x27;)]&quot;</td></tr><tr><td>&hellip;</td><td>&hellip;</td></tr><tr><td>&quot;№1 газет&quot;</td><td>&quot;[(0, 2, &#x27;B-BRAND&#x27;), (3, 8, &#x27;B-TYPE&#x27;)]&quot;</td></tr><tr><td>&quot;№1 диффуз&quot;</td><td>&quot;[(0, 2, &#x27;B-BRAND&#x27;), (3, 9, &#x27;B-TYPE&#x27;)]&quot;</td></tr><tr><td>&quot;№1 диффузо&quot;</td><td>&quot;[(0, 2, &#x27;B-BRAND&#x27;), (3, 10, &#x27;B-TYPE&#x27;)]&quot;</td></tr><tr><td>&quot;№1 диффузор&quot;</td><td>&quot;[(0, 2, &#x27;B-BRAND&#x27;), (3, 11, &#x27;B-TYPE&#x27;)]&quot;</td></tr><tr><td>&quot;№1 кофейн&quot;</td><td>&quot;[(0, 2, &#x27;B-BRAND&#x27;), (3, 9, &#x27;B-TYPE&#x27;)]&quot;</td></tr><tr><td>&quot;№1 кофейни&quot;</td><td>&quot;[(0, 2, &#x27;B-BRAND&#x27;), (3, 10, &#x27;B-TYPE&#x27;)]&quot;</td></tr><tr><td>&quot;№1 кофейник&quot;</td><td>&quot;[(0, 2, &#x27;B-BRAND&#x27;), (3, 11, &#x27;B-TYPE&#x27;)]&quot;</td></tr><tr><td>&quot;№1 пиво&quot;</td><td>&quot;[(0, 2, &#x27;B-BRAND&#x27;), (3, 7, &#x27;B-TYPE&#x27;)]&quot;</td></tr><tr><td>&quot;№1 са&quot;</td><td>&quot;[(0, 2, &#x27;B-BRAND&#x27;), (3, 5, &#x27;B-TYPE&#x27;)]&quot;</td></tr><tr><td>&quot;№1 саш&quot;</td><td>&quot;[(0, 2, &#x27;B-BRAND&#x27;), (3, 6, &#x27;B-TYPE&#x27;)]&quot;</td></tr></tbody></table></div>"
      ],
      "text/plain": [
       "shape: (27_251, 2)\n",
       "┌────────────────┬────────────────────────────────────────┐\n",
       "│ sample         ┆ annotation                             │\n",
       "│ ---            ┆ ---                                    │\n",
       "│ str            ┆ str                                    │\n",
       "╞════════════════╪════════════════════════════════════════╡\n",
       "│ aa             ┆ [(0, 2, 'O')]                          │\n",
       "│ aala           ┆ [(0, 4, 'O')]                          │\n",
       "│ aarcca         ┆ [(0, 6, 'O')]                          │\n",
       "│ abon           ┆ [(0, 4, 'O')]                          │\n",
       "│ abso           ┆ [(0, 4, 'B-BRAND')]                    │\n",
       "│ abtoys игруш   ┆ [(0, 6, 'B-BRAND'), (7, 12, 'B-TYPE')] │\n",
       "│ abtoys игрушк  ┆ [(0, 6, 'B-BRAND'), (7, 13, 'B-TYPE')] │\n",
       "│ abtoys игрушки ┆ [(0, 6, 'B-BRAND'), (7, 14, 'B-TYPE')] │\n",
       "│ acofe          ┆ [(0, 5, 'O')]                          │\n",
       "│ actimal        ┆ [(0, 7, 'B-BRAND')]                    │\n",
       "│ …              ┆ …                                      │\n",
       "│ №1 газет       ┆ [(0, 2, 'B-BRAND'), (3, 8, 'B-TYPE')]  │\n",
       "│ №1 диффуз      ┆ [(0, 2, 'B-BRAND'), (3, 9, 'B-TYPE')]  │\n",
       "│ №1 диффузо     ┆ [(0, 2, 'B-BRAND'), (3, 10, 'B-TYPE')] │\n",
       "│ №1 диффузор    ┆ [(0, 2, 'B-BRAND'), (3, 11, 'B-TYPE')] │\n",
       "│ №1 кофейн      ┆ [(0, 2, 'B-BRAND'), (3, 9, 'B-TYPE')]  │\n",
       "│ №1 кофейни     ┆ [(0, 2, 'B-BRAND'), (3, 10, 'B-TYPE')] │\n",
       "│ №1 кофейник    ┆ [(0, 2, 'B-BRAND'), (3, 11, 'B-TYPE')] │\n",
       "│ №1 пиво        ┆ [(0, 2, 'B-BRAND'), (3, 7, 'B-TYPE')]  │\n",
       "│ №1 са          ┆ [(0, 2, 'B-BRAND'), (3, 5, 'B-TYPE')]  │\n",
       "│ №1 саш         ┆ [(0, 2, 'B-BRAND'), (3, 6, 'B-TYPE')]  │\n",
       "└────────────────┴────────────────────────────────────────┘"
      ]
     },
     "execution_count": 50,
     "metadata": {},
     "output_type": "execute_result"
    }
   ],
   "source": [
    "df"
   ]
  },
  {
   "cell_type": "code",
   "execution_count": 49,
   "id": "ab3a31b6",
   "metadata": {},
   "outputs": [
    {
     "data": {
      "text/html": [
       "<div><style>\n",
       ".dataframe > thead > tr,\n",
       ".dataframe > tbody > tr {\n",
       "  text-align: right;\n",
       "  white-space: pre-wrap;\n",
       "}\n",
       "</style>\n",
       "<small>shape: (18, 2)</small><table border=\"1\" class=\"dataframe\"><thead><tr><th>token</th><th>len</th></tr><tr><td>str</td><td>u32</td></tr></thead><tbody><tr><td>&quot;1&quot;</td><td>2</td></tr><tr><td>&quot;10%&quot;</td><td>2</td></tr><tr><td>&quot;33&quot;</td><td>2</td></tr><tr><td>&quot;9&quot;</td><td>2</td></tr><tr><td>&quot;20&quot;</td><td>2</td></tr><tr><td>&quot;15%&quot;</td><td>2</td></tr><tr><td>&quot;5%&quot;</td><td>2</td></tr><tr><td>&quot;10&quot;</td><td>2</td></tr><tr><td>&quot;82&quot;</td><td>1</td></tr><tr><td>&quot;0&quot;</td><td>1</td></tr><tr><td>&quot;3&quot;</td><td>1</td></tr><tr><td>&quot;1%&quot;</td><td>1</td></tr><tr><td>&quot;3.2&quot;</td><td>1</td></tr><tr><td>&quot;72&quot;</td><td>1</td></tr><tr><td>&quot;3,2&quot;</td><td>1</td></tr><tr><td>&quot;25&quot;</td><td>1</td></tr><tr><td>&quot;20%&quot;</td><td>1</td></tr><tr><td>&quot;33%&quot;</td><td>1</td></tr></tbody></table></div>"
      ],
      "text/plain": [
       "shape: (18, 2)\n",
       "┌───────┬─────┐\n",
       "│ token ┆ len │\n",
       "│ ---   ┆ --- │\n",
       "│ str   ┆ u32 │\n",
       "╞═══════╪═════╡\n",
       "│ 1     ┆ 2   │\n",
       "│ 10%   ┆ 2   │\n",
       "│ 33    ┆ 2   │\n",
       "│ 9     ┆ 2   │\n",
       "│ 20    ┆ 2   │\n",
       "│ 15%   ┆ 2   │\n",
       "│ 5%    ┆ 2   │\n",
       "│ 10    ┆ 2   │\n",
       "│ 82    ┆ 1   │\n",
       "│ 0     ┆ 1   │\n",
       "│ 3     ┆ 1   │\n",
       "│ 1%    ┆ 1   │\n",
       "│ 3.2   ┆ 1   │\n",
       "│ 72    ┆ 1   │\n",
       "│ 3,2   ┆ 1   │\n",
       "│ 25    ┆ 1   │\n",
       "│ 20%   ┆ 1   │\n",
       "│ 33%   ┆ 1   │\n",
       "└───────┴─────┘"
      ]
     },
     "execution_count": 49,
     "metadata": {},
     "output_type": "execute_result"
    }
   ],
   "source": [
    "from itertools import chain\n",
    "\n",
    "pl.Config.set_tbl_rows(20)\n",
    "pl.DataFrame(chain(*tokens_ner), schema=['token', 'ner'], orient='row') \\\n",
    "    .filter(pl.col('ner') == 'B-PERCENT') \\\n",
    "    .group_by('token').len() \\\n",
    "    .sort('len', descending=True) \\\n",
    "    .head(20)"
   ]
  },
  {
   "cell_type": "code",
   "execution_count": null,
   "id": "f8134c41",
   "metadata": {},
   "outputs": [],
   "source": []
  },
  {
   "cell_type": "code",
   "execution_count": null,
   "id": "08a315ac",
   "metadata": {},
   "outputs": [],
   "source": []
  },
  {
   "cell_type": "code",
   "execution_count": null,
   "id": "15e53b6e",
   "metadata": {},
   "outputs": [],
   "source": []
  },
  {
   "cell_type": "code",
   "execution_count": null,
   "id": "b4deef39",
   "metadata": {},
   "outputs": [],
   "source": []
  },
  {
   "cell_type": "code",
   "execution_count": null,
   "id": "5b526a13",
   "metadata": {},
   "outputs": [],
   "source": []
  }
 ],
 "metadata": {
  "kernelspec": {
   "display_name": ".venv",
   "language": "python",
   "name": "python3"
  },
  "language_info": {
   "codemirror_mode": {
    "name": "ipython",
    "version": 3
   },
   "file_extension": ".py",
   "mimetype": "text/x-python",
   "name": "python",
   "nbconvert_exporter": "python",
   "pygments_lexer": "ipython3",
   "version": "3.12.10"
  }
 },
 "nbformat": 4,
 "nbformat_minor": 5
}
